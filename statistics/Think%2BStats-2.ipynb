{
 "cells": [
  {
   "cell_type": "markdown",
   "metadata": {},
   "source": [
    "**Thinks Stats Exercises**"
   ]
  },
  {
   "cell_type": "code",
   "execution_count": 52,
   "metadata": {
    "collapsed": true
   },
   "outputs": [],
   "source": [
    "from __future__ import print_function, division\n",
    "%matplotlib inline\n",
    "import numpy as np\n",
    "import nsfg\n",
    "import first\n",
    "import thinkstats2\n",
    "import thinkplot\n",
    "import math"
   ]
  },
  {
   "cell_type": "markdown",
   "metadata": {},
   "source": [
    "**Exercise 2-4**"
   ]
  },
  {
   "cell_type": "code",
   "execution_count": 53,
   "metadata": {
    "collapsed": true
   },
   "outputs": [],
   "source": [
    "preg = nsfg.ReadFemPreg()\n",
    "live = preg[preg.outcome == 1]"
   ]
  },
  {
   "cell_type": "markdown",
   "metadata": {},
   "source": [
    "I was playing around with the chapter content and curious to look at what the histogram of the babies total weight looked like. "
   ]
  },
  {
   "cell_type": "code",
   "execution_count": 54,
   "metadata": {
    "collapsed": false
   },
   "outputs": [
    {
     "data": {
      "image/png": "[encoded data removed]",
      "text/plain": [
       "<matplotlib.figure.Figure at 0x11b34f7f0>"
      ]
     },
     "metadata": {},
     "output_type": "display_data"
    }
   ],
   "source": [
    "hist = thinkstats2.Hist(live.totalwgt_lb, label='totalwgt_lb')\n",
    "thinkplot.Hist(hist)\n",
    "thinkplot.Config(xlabel='Birth weight (pounds)', ylabel='Count')"
   ]
  },
  {
   "cell_type": "markdown",
   "metadata": {},
   "source": [
    "I was also curious to see what the histograms of first babies' to the rest of the babies' histograms looked like side-by-side. \n",
    "\n",
    "Was there any obvious difference? It seems not."
   ]
  },
  {
   "cell_type": "code",
   "execution_count": 55,
   "metadata": {
    "collapsed": true
   },
   "outputs": [],
   "source": [
    "firsts = live[live.birthord == 1]\n",
    "others = live[live.birthord != 1]\n",
    "\n",
    "first_hist = thinkstats2.Hist(firsts.totalwgt_lb, label='first')\n",
    "other_hist = thinkstats2.Hist(others.totalwgt_lb, label='other')"
   ]
  },
  {
   "cell_type": "code",
   "execution_count": 56,
   "metadata": {
    "collapsed": false
   },
   "outputs": [
    {
     "data": {
      "image/png": "[encoded data removed]",
      "text/plain": [
       "<matplotlib.figure.Figure at 0x1059f3358>"
      ]
     },
     "metadata": {},
     "output_type": "display_data"
    }
   ],
   "source": [
    "width = 0.02\n",
    "thinkplot.PrePlot(2)\n",
    "thinkplot.Hist(first_hist, align='right', width=width)\n",
    "thinkplot.Hist(other_hist, align='left', width=width)\n",
    "thinkplot.Config(xlabel='weight', ylabel='Count', xlim=[6, 9])"
   ]
  },
  {
   "cell_type": "markdown",
   "metadata": {},
   "source": [
    "Then I calculated the Cohen's d to quantify the difference between the first born babies and the other babies weights, and the difference between the first born babies and other babies preganancy lengths. "
   ]
  },
  {
   "cell_type": "code",
   "execution_count": 57,
   "metadata": {
    "collapsed": true
   },
   "outputs": [],
   "source": [
    "first_wgt = firsts.totalwgt_lb\n",
    "others_wgt = others.totalwgt_lb"
   ]
  },
  {
   "cell_type": "code",
   "execution_count": 58,
   "metadata": {
    "collapsed": false
   },
   "outputs": [],
   "source": [
    "def CohenEffectSize(group1, group2):\n",
    "    diff = group1.mean() - group2.mean()\n",
    "    var1 = group1.var()\n",
    "    var2 = group2.var()\n",
    "    n1, n2 = len(group1), len(group2)\n",
    "    pooled_var = (n1 * var1 + n2 * var2) / (n1 + n2)\n",
    "    d = diff / math.sqrt(pooled_var)\n",
    "    return d"
   ]
  },
  {
   "cell_type": "code",
   "execution_count": 59,
   "metadata": {
    "collapsed": false
   },
   "outputs": [],
   "source": [
    "wgt_cohen = CohenEffectSize(first_wgt, others_wgt)"
   ]
  },
  {
   "cell_type": "code",
   "execution_count": 60,
   "metadata": {
    "collapsed": true
   },
   "outputs": [],
   "source": [
    "first_length = firsts.prglngth\n",
    "others_length = others.prglngth"
   ]
  },
  {
   "cell_type": "code",
   "execution_count": 61,
   "metadata": {
    "collapsed": false
   },
   "outputs": [],
   "source": [
    "length_cohen = CohenEffectSize(first_length, others_length)"
   ]
  },
  {
   "cell_type": "code",
   "execution_count": 62,
   "metadata": {
    "collapsed": false
   },
   "outputs": [],
   "source": [
    "diff = abs(wgt_cohen)-length_cohen"
   ]
  },
  {
   "cell_type": "code",
   "execution_count": 63,
   "metadata": {
    "collapsed": false
   },
   "outputs": [
    {
     "name": "stdout",
     "output_type": "stream",
     "text": [
      "cohen wgt: -0.088672927072602\n",
      "cohen length: 0.028879044654449883\n",
      "difference: 0.059793882418152124\n"
     ]
    }
   ],
   "source": [
    "print ('cohen wgt: ' + str(wgt_cohen))\n",
    "print ('cohen length: ' + str(length_cohen))\n",
    "print ('difference: ' + str(diff))"
   ]
  },
  {
   "cell_type": "markdown",
   "metadata": {},
   "source": [
    "The difference between the two cohen's d calculations is not very big. It's around .06. \n",
    "\n",
    "Both cohen's d are very small - meaning there is a small effect size. \n",
    "\n",
    "This suggests there is most likely no significant difference between pregnancy length in first born babies vs. other babies, as well as no significant difference between total weight of first born babies vs. other babies."
   ]
  },
  {
   "cell_type": "markdown",
   "metadata": {},
   "source": [
    "______________________________________________________________________________________________________\n",
    "\n",
    "**Exercise 3-1**"
   ]
  },
  {
   "cell_type": "markdown",
   "metadata": {},
   "source": [
    "Something like the class size paradox appears if you survey children and ask how many children are in their family. Families with many children are more likely to appear in your sample, and families with no children have no chance to be in the sample.\n",
    "\n",
    "Use the NSFG respondent variable NUMKDHH to construct the actual distribution for the number of children under 18 in the household.\n",
    "\n",
    "Now compute the biased distribution we would see if we surveyed the children and asked them how many children under 18 (including themselves) are in their household.\n",
    "\n",
    "Plot the actual and biased distributions, and compute their means. As a starting place, you can use chap03ex.ipynb."
   ]
  },
  {
   "cell_type": "code",
   "execution_count": 81,
   "metadata": {
    "collapsed": false
   },
   "outputs": [
    {
     "data": {
      "image/png": "[encoded data removed]",
      "text/plain": [
       "<matplotlib.figure.Figure at 0x11993c1d0>"
      ]
     },
     "metadata": {},
     "output_type": "display_data"
    }
   ],
   "source": [
    "resp = nsfg.ReadFemResp()\n",
    "\n",
    "pmf = thinkstats2.Pmf(resp.numkdhh, label='actual')\n",
    "\n",
    "def BiasPmf(pmf, label):\n",
    "    new_pmf = pmf.Copy(label=label)\n",
    "    for x, p in pmf.Items():\n",
    "        new_pmf.Mult(x, x)\n",
    "    new_pmf.Normalize()\n",
    "    return new_pmf\n",
    "\n",
    "biased = BiasPmf(pmf, label='biased')\n",
    "\n",
    "thinkplot.Pmf(pmf)\n",
    "thinkplot.Text(.5, .55, 'Actual')\n",
    "thinkplot.Config(xlabel='kids in family', ylabel='pmf')\n"
   ]
  },
  {
   "cell_type": "code",
   "execution_count": 86,
   "metadata": {
    "collapsed": false
   },
   "outputs": [
    {
     "data": {
      "image/png": "[encoded data removed]",
      "text/plain": [
       "<matplotlib.figure.Figure at 0x11a61e550>"
      ]
     },
     "metadata": {},
     "output_type": "display_data"
    }
   ],
   "source": [
    "thinkplot.Pmf(biased)\n",
    "thinkplot.Text(.5, .45, 'Biased')\n",
    "thinkplot.Config(xlabel='kids in family', ylabel='pmf')"
   ]
  },
  {
   "cell_type": "code",
   "execution_count": 91,
   "metadata": {
    "collapsed": false
   },
   "outputs": [
    {
     "name": "stdout",
     "output_type": "stream",
     "text": [
      "The mean of the actual distribution is 1.02420515504. The mean of the biased distribution is 2.40367910066.\n"
     ]
    }
   ],
   "source": [
    "mean_actual = pmf.Mean()\n",
    "mean_biased = biased.Mean()\n",
    "print('The mean of the actual distribution is ' + str(mean_actual)+ '. The mean of the biased distribution is '+ str(mean_biased)+'.')"
   ]
  },
  {
   "cell_type": "markdown",
   "metadata": {},
   "source": [
    "**Exercise 4-2**"
   ]
  },
  {
   "cell_type": "markdown",
   "metadata": {},
   "source": [
    "The numbers generated by random.random are supposed to be uniform between 0 and 1; that is, every value in the range should have the same probability.\n",
    "\n",
    "Generate 1000 numbers from random.random and plot their PMF and CDF. Is the distribution uniform?"
   ]
  },
  {
   "cell_type": "code",
   "execution_count": 115,
   "metadata": {
    "collapsed": false
   },
   "outputs": [
    {
     "data": {
      "image/png": "[encoded data removed]",
      "text/plain": [
       "<matplotlib.figure.Figure at 0x110b39f28>"
      ]
     },
     "metadata": {},
     "output_type": "display_data"
    }
   ],
   "source": [
    "import random\n",
    "\n",
    "l = []\n",
    "for x in range(1000):\n",
    "    r = random.random()\n",
    "    l.append(r)\n",
    "\n",
    "pmf_random= thinkstats2.Pmf(l)\n",
    "\n",
    "thinkplot.Pmf(pmf_random)\n",
    "thinkplot.Text(.0012,.0012, 'Pmf Plot')\n",
    "thinkplot.Config(xlabel='numbers', ylabel='pmf')"
   ]
  },
  {
   "cell_type": "code",
   "execution_count": 122,
   "metadata": {
    "collapsed": false
   },
   "outputs": [
    {
     "data": {
      "image/png": "[encoded data removed]",
      "text/plain": [
       "<matplotlib.figure.Figure at 0x119c94cc0>"
      ]
     },
     "metadata": {},
     "output_type": "display_data"
    }
   ],
   "source": [
    "def EvalCdf(sample, x):\n",
    "    count = 0.0\n",
    "    for value in sample:\n",
    "        if value <= x:\n",
    "            count += 1\n",
    "    prob = count / len(sample)\n",
    "    return prob\n",
    "\n",
    "cdf = thinkstats2.Cdf(l, label='prglngth')\n",
    "thinkplot.Cdf(cdf)\n",
    "thinkplot.Text(.1,1.2, 'Cdf Plot')\n",
    "thinkplot.Config(xlabel='numbers', ylabel='cdf')"
   ]
  },
  {
   "cell_type": "markdown",
   "metadata": {},
   "source": [
    "The distribution of the numbers is uniform. That means every value in the range has the same the same chance of being generated by random.random()."
   ]
  },
  {
   "cell_type": "markdown",
   "metadata": {},
   "source": [
    "**Exercise 5-1**"
   ]
  },
  {
   "cell_type": "markdown",
   "metadata": {},
   "source": [
    "In the BRFSS (see Section 5.4), the distribution of heights is roughly normal with parameters μ = 178 cm and σ = 7.7 cm for men, and μ = 163 cm and σ = 7.3 cm for women.\n",
    "In order to join Blue Man Group, you have to be male between 5’10” and 6’1” (see http://bluemancasting.com). What percentage of the U.S. male population is in this range? Hint: use scipy.stats.norm.cdf."
   ]
  },
  {
   "cell_type": "markdown",
   "metadata": {},
   "source": [
    "Thought Process:\n",
    "\n",
    "The distribution of heights for men is roughly normal. This means that I need to evaluate the normal cdf for male heights 5'10\" and 6'1\". The difference between these two evaluations should be the percentage of the male population in this range. This is because the CDF shows the percentage of men at the height specified and lower. "
   ]
  },
  {
   "cell_type": "code",
   "execution_count": 127,
   "metadata": {
    "collapsed": false
   },
   "outputs": [
    {
     "name": "stdout",
     "output_type": "stream",
     "text": [
      "0.342746837631\n"
     ]
    }
   ],
   "source": [
    "import scipy.stats\n",
    "scipy.stats.norm.cdf(0)\n",
    "\n",
    "def EvalNormalCdf(x, mu=0, sigma=1):\n",
    "    return scipy.stats.norm.cdf(x, loc=mu, scale=sigma)\n",
    "\n",
    "maleone = 5*12*2.54+10*2.54 \n",
    "maletwo = 6*12*2.54 +1*2.54\n",
    "diff = EvalNormalCdf(maletwo, 178, 7.7) - EvalNormalCdf(maleone, 178, 7.7)\n",
    "print(diff)"
   ]
  },
  {
   "cell_type": "markdown",
   "metadata": {},
   "source": [
    "Approxmately 34.3% of the male population fall within the range that the Blue Man Group casting specifications require. "
   ]
  },
  {
   "cell_type": "markdown",
   "metadata": {},
   "source": [
    "**Q6**"
   ]
  },
  {
   "cell_type": "markdown",
   "metadata": {},
   "source": [
    "Elvis Presley had a twin brother who died at birth. What is the probability that Elvis was an identical twin? Assume we observe the following probabilities in the population: fraternal twin is 1/125 and identical twin is 1/300."
   ]
  },
  {
   "cell_type": "markdown",
   "metadata": {},
   "source": [
    "Thought Process:\n",
    "\n",
    "Probability of being born a twin in the population = \n",
    "    Probability of being born a fraternal twin in pop + Probability of being born an identical twin in pop\n",
    "    \n",
    "Probability of brother being a twin = 100% because it already happened.\n",
    "\n",
    "Therefore probability of brother being an identical twin = \n",
    "    [(Probability of being born an identical twin in pop)/(Probability of being born a twin in pop)] * 100"
   ]
  },
  {
   "cell_type": "code",
   "execution_count": 129,
   "metadata": {
    "collapsed": false
   },
   "outputs": [
    {
     "name": "stdout",
     "output_type": "stream",
     "text": [
      "29.411764705882355\n"
     ]
    }
   ],
   "source": [
    "x = ((1/300)/(1/300+1/125))*100\n",
    "print(x)"
   ]
  },
  {
   "cell_type": "markdown",
   "metadata": {},
   "source": [
    "The probability of Elvis' brother was an identical twin is approximately 29.41%."
   ]
  },
  {
   "cell_type": "markdown",
   "metadata": {},
   "source": [
    "**Q7**\n"
   ]
  },
  {
   "cell_type": "markdown",
   "metadata": {},
   "source": [
    "How do frequentist and Bayesian statistics compare?\n",
    "\n",
    "Maybe you could say that a frequentist attempts to find \"absolute\" probabilities\", compared to a Bayesianist who attempts to find \"relative\" probabilities. \n",
    "\n",
    "The frequentist looks to figure out the frequency of an event's occurence. The frequentist finds this probability of an event occuring measurable and observable based on different rules (pre-set parameters) about the event. He finds this probability exists independently of the person calculating it. \n",
    "\n",
    "The Bayesian statistician, on the other hand, believes that data can only be observed from a realized sample. According the the Bayensianist, the rules governning an event (those 'pre-set' parameters) are actually unknown and only described probabalistically.\n",
    "\n",
    "So, the frequentist sees underlying parameters that govern an event as remaining constant. The process is repeatable to infinite and the parameters are fixed. The probability of an event occuring is calculated based off of these fixed parameters and nothing else. The Bayesian, on the other hand, admits the underlying parameters governing an event are unknown and believes that only the obserable dataset is fixed. The Bayesian calculates the probability of an event occuring based off of this data. Because the individual calculating the probability may have an impact on the observable data collected, that individual may also have an impact on the statistic found.\n",
    "\n"
   ]
  }
 ],
 "metadata": {
  "kernelspec": {
   "display_name": "Python 3",
   "language": "python",
   "name": "python3"
  },
  "language_info": {
   "codemirror_mode": {
    "name": "ipython",
    "version": 3
   },
   "file_extension": ".py",
   "mimetype": "text/x-python",
   "name": "python",
   "nbconvert_exporter": "python",
   "pygments_lexer": "ipython3",
   "version": "3.6.0"
  }
 },
 "nbformat": 4,
 "nbformat_minor": 2
}
